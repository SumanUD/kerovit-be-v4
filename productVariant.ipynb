Navbar - about us before product
Fixing search
Range fixing
Show more bogs page
Warranty Page
Customer care page link with app download links
Collections Page AURUM/KLASSIC Heading